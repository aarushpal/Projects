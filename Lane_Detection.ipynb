{
 "cells": [
  {
   "cell_type": "code",
   "execution_count": 1,
   "metadata": {},
   "outputs": [],
   "source": [
    "import cv2 as cv\n",
    "import sys\n",
    "import numpy as np\n",
    "import matplotlib.pyplot as plt #used it to find the coordinates of region of interest by plotting a single frame from video"
   ]
  },
  {
   "cell_type": "code",
   "execution_count": 2,
   "metadata": {},
   "outputs": [],
   "source": [
    "def canny(image):\n",
    "    gray = cv.cvtColor(image, cv.COLOR_RGB2GRAY)#converts coloured image to greyscale\n",
    "    blur = cv.GaussianBlur(gray,(5,5),0)#blurs the image to remove noise\n",
    "    #parameters include the source image, kernel size and standard deviation applied in x direction\n",
    "    canny = cv.Canny(blur, 50,150)#detects edges in image which satisfy the threshold values, here 50 and 150 are min and max threshold respectively\n",
    "    return canny"
   ]
  },
  {
   "cell_type": "code",
   "execution_count": 3,
   "metadata": {},
   "outputs": [],
   "source": [
    "def average_slope_intercept(image, lines): \n",
    "    left_fit = [] #creating empty list for storing parameters of left predicted path\n",
    "    right_fit = [] #creating empty list for storing parameters of right predicted path\n",
    "    for line in lines: \n",
    "        x1, y1, x2, y2 = line.reshape(4) #storing x and y coordinates in respective variables\n",
    "          \n",
    "         \n",
    "        parameters = np.polyfit((x1, x2), (y1, y2), 1) #extracts the slope and intercept parameters of the lines by fitting a 1 degree polynomial in the given points \n",
    "        slope = parameters[0] \n",
    "        intercept = parameters[1] \n",
    "        if slope < 0: \n",
    "            left_fit.append((slope, intercept)) #for lines on the left path slope is negative \n",
    "        else: \n",
    "            right_fit.append((slope, intercept)) #for lines on the right path slope is positive\n",
    "              #this is due to taking positive y axis downward\n",
    "    left_fit_average = np.average(left_fit, axis = 0) #averaging the values\n",
    "    right_fit_average = np.average(right_fit, axis = 0) \n",
    "    left_line = make_coordinates(image, left_fit_average) \n",
    "    right_line = make_coordinates(image, right_fit_average) \n",
    "    return np.array([left_line, right_line])"
   ]
  },
  {
   "cell_type": "code",
   "execution_count": 4,
   "metadata": {},
   "outputs": [],
   "source": [
    "def make_coordinates(image, line_parameters):\n",
    "    slope,intercept = line_parameters\n",
    "    y1 = image.shape[0]\n",
    "    y2 = int(y1*(3/5))\n",
    "    x1 = int((y1-intercept)/slope)\n",
    "    x2 = int((y2-intercept)/slope)\n",
    "    return np.array([x1,y1,x2,y2])#making an array of the respective points\n"
   ]
  },
  {
   "cell_type": "code",
   "execution_count": 5,
   "metadata": {},
   "outputs": [],
   "source": [
    "def region_of_interest(image):\n",
    "    height = image.shape[0] #height becomes the entire row of the image \n",
    "    polygon = np.array([[(200,height),(1150,height),(550,250)]]) #creates a polygon array of the defined points\n",
    "    mask = np.zeros_like(image) #creating a completely black image, same size as the image\n",
    "    cv.fillPoly(mask,polygon,255) #fills the black mask with white color in the region defined by polygon array points\n",
    "    masked_image = cv.bitwise_and(image,mask) #bitwise_and isolates the defined region and makes the surrounding region black\n",
    "    return masked_image"
   ]
  },
  {
   "cell_type": "code",
   "execution_count": 6,
   "metadata": {},
   "outputs": [],
   "source": [
    "def display_lines(image, lines): \n",
    "    line_image = np.zeros_like(image) #creating a completely black image, same size as the image\n",
    "    if lines is not None: \n",
    "        for x1, y1, x2, y2 in lines: \n",
    "            cv.line(line_image, (x1, y1), (x2, y2), (255, 0, 0), 10) #creates a line joining (x1,y1) and (x2,y2) of blue color and thickness 10px\n",
    "                                                                    \n",
    "    return line_image "
   ]
  },
  {
   "cell_type": "code",
   "execution_count": 7,
   "metadata": {},
   "outputs": [
    {
     "name": "stderr",
     "output_type": "stream",
     "text": [
      "/home/aarush/.local/lib/python3.6/site-packages/ipykernel_launcher.py:19: RankWarning: Polyfit may be poorly conditioned\n",
      "/home/aarush/.local/lib/python3.6/site-packages/ipykernel_launcher.py:19: RankWarning: Polyfit may be poorly conditioned\n",
      "/home/aarush/.local/lib/python3.6/site-packages/ipykernel_launcher.py:19: RankWarning: Polyfit may be poorly conditioned\n",
      "/home/aarush/.local/lib/python3.6/site-packages/ipykernel_launcher.py:19: RankWarning: Polyfit may be poorly conditioned\n",
      "/home/aarush/.local/lib/python3.6/site-packages/ipykernel_launcher.py:19: RankWarning: Polyfit may be poorly conditioned\n",
      "/home/aarush/.local/lib/python3.6/site-packages/ipykernel_launcher.py:19: RankWarning: Polyfit may be poorly conditioned\n",
      "/home/aarush/.local/lib/python3.6/site-packages/ipykernel_launcher.py:19: RankWarning: Polyfit may be poorly conditioned\n",
      "/home/aarush/.local/lib/python3.6/site-packages/ipykernel_launcher.py:19: RankWarning: Polyfit may be poorly conditioned\n",
      "/home/aarush/.local/lib/python3.6/site-packages/ipykernel_launcher.py:19: RankWarning: Polyfit may be poorly conditioned\n",
      "/home/aarush/.local/lib/python3.6/site-packages/ipykernel_launcher.py:19: RankWarning: Polyfit may be poorly conditioned\n",
      "/home/aarush/.local/lib/python3.6/site-packages/ipykernel_launcher.py:19: RankWarning: Polyfit may be poorly conditioned\n",
      "/home/aarush/.local/lib/python3.6/site-packages/ipykernel_launcher.py:19: RankWarning: Polyfit may be poorly conditioned\n",
      "/home/aarush/.local/lib/python3.6/site-packages/ipykernel_launcher.py:19: RankWarning: Polyfit may be poorly conditioned\n",
      "/home/aarush/.local/lib/python3.6/site-packages/ipykernel_launcher.py:19: RankWarning: Polyfit may be poorly conditioned\n",
      "/home/aarush/.local/lib/python3.6/site-packages/ipykernel_launcher.py:19: RankWarning: Polyfit may be poorly conditioned\n",
      "/home/aarush/.local/lib/python3.6/site-packages/ipykernel_launcher.py:19: RankWarning: Polyfit may be poorly conditioned\n"
     ]
    },
    {
     "ename": "OverflowError",
     "evalue": "signed integer is greater than maximum",
     "output_type": "error",
     "traceback": [
      "\u001b[0;31m---------------------------------------------------------------------------\u001b[0m",
      "\u001b[0;31mOverflowError\u001b[0m                             Traceback (most recent call last)",
      "\u001b[0;32m<ipython-input-7-8d94599ee6fd>\u001b[0m in \u001b[0;36m<module>\u001b[0;34m\u001b[0m\n\u001b[1;32m     19\u001b[0m     \u001b[0maveraged_lines\u001b[0m \u001b[0;34m=\u001b[0m \u001b[0maverage_slope_intercept\u001b[0m\u001b[0;34m(\u001b[0m\u001b[0mframe\u001b[0m\u001b[0;34m,\u001b[0m\u001b[0mlines\u001b[0m\u001b[0;34m)\u001b[0m\u001b[0;34m\u001b[0m\u001b[0;34m\u001b[0m\u001b[0m\n\u001b[1;32m     20\u001b[0m \u001b[0;34m\u001b[0m\u001b[0m\n\u001b[0;32m---> 21\u001b[0;31m     \u001b[0mline_image\u001b[0m \u001b[0;34m=\u001b[0m \u001b[0mdisplay_lines\u001b[0m\u001b[0;34m(\u001b[0m\u001b[0mframe\u001b[0m\u001b[0;34m,\u001b[0m \u001b[0maveraged_lines\u001b[0m\u001b[0;34m)\u001b[0m\u001b[0;34m\u001b[0m\u001b[0;34m\u001b[0m\u001b[0m\n\u001b[0m\u001b[1;32m     22\u001b[0m \u001b[0;34m\u001b[0m\u001b[0m\n\u001b[1;32m     23\u001b[0m     \u001b[0mcombo_image\u001b[0m \u001b[0;34m=\u001b[0m \u001b[0mcv\u001b[0m\u001b[0;34m.\u001b[0m\u001b[0maddWeighted\u001b[0m\u001b[0;34m(\u001b[0m\u001b[0mframe\u001b[0m\u001b[0;34m,\u001b[0m \u001b[0;36m0.8\u001b[0m\u001b[0;34m,\u001b[0m \u001b[0mline_image\u001b[0m\u001b[0;34m,\u001b[0m\u001b[0;36m1\u001b[0m\u001b[0;34m,\u001b[0m\u001b[0;36m0\u001b[0m\u001b[0;34m)\u001b[0m \u001b[0;31m#blending the frames and lines together\u001b[0m\u001b[0;34m\u001b[0m\u001b[0;34m\u001b[0m\u001b[0m\n",
      "\u001b[0;32m<ipython-input-6-615052e8e195>\u001b[0m in \u001b[0;36mdisplay_lines\u001b[0;34m(image, lines)\u001b[0m\n\u001b[1;32m      3\u001b[0m     \u001b[0;32mif\u001b[0m \u001b[0mlines\u001b[0m \u001b[0;32mis\u001b[0m \u001b[0;32mnot\u001b[0m \u001b[0;32mNone\u001b[0m\u001b[0;34m:\u001b[0m\u001b[0;34m\u001b[0m\u001b[0;34m\u001b[0m\u001b[0m\n\u001b[1;32m      4\u001b[0m         \u001b[0;32mfor\u001b[0m \u001b[0mx1\u001b[0m\u001b[0;34m,\u001b[0m \u001b[0my1\u001b[0m\u001b[0;34m,\u001b[0m \u001b[0mx2\u001b[0m\u001b[0;34m,\u001b[0m \u001b[0my2\u001b[0m \u001b[0;32min\u001b[0m \u001b[0mlines\u001b[0m\u001b[0;34m:\u001b[0m\u001b[0;34m\u001b[0m\u001b[0;34m\u001b[0m\u001b[0m\n\u001b[0;32m----> 5\u001b[0;31m             \u001b[0mcv\u001b[0m\u001b[0;34m.\u001b[0m\u001b[0mline\u001b[0m\u001b[0;34m(\u001b[0m\u001b[0mline_image\u001b[0m\u001b[0;34m,\u001b[0m \u001b[0;34m(\u001b[0m\u001b[0mx1\u001b[0m\u001b[0;34m,\u001b[0m \u001b[0my1\u001b[0m\u001b[0;34m)\u001b[0m\u001b[0;34m,\u001b[0m \u001b[0;34m(\u001b[0m\u001b[0mx2\u001b[0m\u001b[0;34m,\u001b[0m \u001b[0my2\u001b[0m\u001b[0;34m)\u001b[0m\u001b[0;34m,\u001b[0m \u001b[0;34m(\u001b[0m\u001b[0;36m255\u001b[0m\u001b[0;34m,\u001b[0m \u001b[0;36m0\u001b[0m\u001b[0;34m,\u001b[0m \u001b[0;36m0\u001b[0m\u001b[0;34m)\u001b[0m\u001b[0;34m,\u001b[0m \u001b[0;36m10\u001b[0m\u001b[0;34m)\u001b[0m \u001b[0;31m#creates a line joining (x1,y1) and (x2,y2) of blue color and thickness 10px\u001b[0m\u001b[0;34m\u001b[0m\u001b[0;34m\u001b[0m\u001b[0m\n\u001b[0m\u001b[1;32m      6\u001b[0m \u001b[0;34m\u001b[0m\u001b[0m\n\u001b[1;32m      7\u001b[0m     \u001b[0;32mreturn\u001b[0m \u001b[0mline_image\u001b[0m\u001b[0;34m\u001b[0m\u001b[0;34m\u001b[0m\u001b[0m\n",
      "\u001b[0;31mOverflowError\u001b[0m: signed integer is greater than maximum"
     ]
    }
   ],
   "source": [
    "cap = cv.VideoCapture(\"/home/aarush/Downloads/challenge_video.mp4\") #creating video capture object\n",
    "\n",
    "fourcc = cv.VideoWriter_fourcc(*'XVID') #defining the codec\n",
    "out = cv.VideoWriter('Output_Video.mp4',fourcc,20,(640,480))\n",
    "\n",
    "while(cap.isOpened()): \n",
    "    _, frame = cap.read() #reading the video frames\n",
    "    canny_image = canny(frame)\n",
    "\n",
    "    cropped_image = region_of_interest(canny_image)\n",
    "\n",
    "    lines = cv.HoughLinesP(cropped_image, 2, np.pi/180, 100, np.array([]),minLineLength =40,maxLineGap =5)#predicts the edges and joins them by creating lines\n",
    "    #parameters include source image, \n",
    "    #2 is resolution paramter rho in px. More px means less accuracy\n",
    "    #np.pi/180 is resolution parameter theta in radians\n",
    "    #np.array([]) stores the coordinates of the start and end points of the lines\n",
    "    #minLineLength defines the minimum pixels to consider in a line to be considered valid\n",
    "    #maxLineGap defines the max pixels between two lines so that they may merge to become a single line.Above the max value they are considered two different lines\n",
    "    averaged_lines = average_slope_intercept(frame,lines)\n",
    "    \n",
    "    line_image = display_lines(frame, averaged_lines)\n",
    "    \n",
    "    combo_image = cv.addWeighted(frame, 0.8, line_image,1,0) #blending the frames and lines together \n",
    "    #giving a weight of 0.8 to frames and 1.0 to line_image, so that they are easily visible\n",
    "    \n",
    "    out.write(frame)#saving the video frames\n",
    "    \n",
    "    cv.imshow(\"image\",combo_image)#displaying the video frames\n",
    "    if cv.waitKey(1) & 0xFF == ord('q'):       \n",
    "        break\n",
    "\n",
    "cap.release()  #releasing cap object\n",
    "cv.destroyAllWindows()\n"
   ]
  },
  {
   "cell_type": "code",
   "execution_count": null,
   "metadata": {},
   "outputs": [],
   "source": [
    "# import cv2 as cv\n",
    "# import sys\n",
    "# import numpy as np\n",
    "# import matplotlib.pyplot as plt \n"
   ]
  },
  {
   "cell_type": "code",
   "execution_count": null,
   "metadata": {},
   "outputs": [],
   "source": [
    "# def canny(image):\n",
    "#     gray = cv.cvtColor(image, cv.COLOR_RGB2GRAY)#converts coloured image to greyscale\n",
    "#     blur = cv.GaussianBlur(gray,(5,5),0)#blurs the image to remove noise \n",
    "#     canny = cv.Canny(blur, 50,150)#detects edges in image which satisfy the threshold values\n",
    "#     return canny\n",
    "# image = cv.imread('/home/aarush/Downloads/Screenshot from 2021-04-10 12-28-36.jpg')\n",
    "# new =canny(image)\n",
    "# plt.imshow(new)\n",
    "# plt.imshow(new)\n",
    "# plt.show()"
   ]
  },
  {
   "cell_type": "code",
   "execution_count": null,
   "metadata": {},
   "outputs": [],
   "source": []
  },
  {
   "cell_type": "code",
   "execution_count": null,
   "metadata": {},
   "outputs": [],
   "source": [
    "\n"
   ]
  },
  {
   "cell_type": "code",
   "execution_count": null,
   "metadata": {},
   "outputs": [],
   "source": []
  },
  {
   "cell_type": "code",
   "execution_count": null,
   "metadata": {},
   "outputs": [],
   "source": []
  },
  {
   "cell_type": "code",
   "execution_count": null,
   "metadata": {},
   "outputs": [],
   "source": []
  },
  {
   "cell_type": "code",
   "execution_count": null,
   "metadata": {},
   "outputs": [],
   "source": []
  },
  {
   "cell_type": "code",
   "execution_count": null,
   "metadata": {},
   "outputs": [],
   "source": []
  },
  {
   "cell_type": "code",
   "execution_count": null,
   "metadata": {},
   "outputs": [],
   "source": []
  },
  {
   "cell_type": "code",
   "execution_count": null,
   "metadata": {},
   "outputs": [],
   "source": []
  }
 ],
 "metadata": {
  "kernelspec": {
   "display_name": "Python 3",
   "language": "python",
   "name": "python3"
  },
  "language_info": {
   "codemirror_mode": {
    "name": "ipython",
    "version": 3
   },
   "file_extension": ".py",
   "mimetype": "text/x-python",
   "name": "python",
   "nbconvert_exporter": "python",
   "pygments_lexer": "ipython3",
   "version": "3.6.9"
  }
 },
 "nbformat": 4,
 "nbformat_minor": 4
}
